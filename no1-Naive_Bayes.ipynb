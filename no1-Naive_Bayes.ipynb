{
 "cells": [
  {
   "cell_type": "code",
   "execution_count": 11,
   "metadata": {},
   "outputs": [
    {
     "name": "stdout",
     "output_type": "stream",
     "text": [
      "accuracy score: 0.946236559139785\n"
     ]
    }
   ],
   "source": [
    "from sklearn.metrics import accuracy_score\n",
    "from sklearn.naive_bayes import GaussianNB\n",
    "from sklearn.model_selection import train_test_split\n",
    "import pandas as pd\n",
    "\n",
    "df = pd.read_csv('./survey_lung_cancer.csv')\n",
    "df.head()\n",
    "\n",
    "df.columns = [\"Gender\", \"Age\", \"Smoking\", \"Yellow Fingers\", \"Anxiety\", \"Peer Pressure\", \"Chronic Disease\", \"Fatigue\", \"Allergy\", \"Wheezing\", \"Alcohol Consuming\", \"Coughing\", \"Shortness of Breath\", \"Swallowing Difficulty\", \"Chest Pain\", \"Lung Cancer\"]\n",
    "\n",
    "df[\"Lung Cancer\"].replace([\"YES\",\"NO\"], [0,1], inplace=True)\n",
    "df[\"Gender\"].replace([\"M\",\"F\"], [0,1], inplace=True)\n",
    "\n",
    "x = df[[\"Gender\", \"Age\", \"Smoking\", \"Yellow Fingers\", \"Anxiety\", \"Peer Pressure\", \"Chronic Disease\", \"Fatigue\", \"Allergy\", \"Wheezing\", \"Alcohol Consuming\", \"Coughing\", \"Shortness of Breath\", \"Swallowing Difficulty\", \"Chest Pain\"]]\n",
    "\n",
    "y = df[\"Lung Cancer\"]\n",
    "\n",
    "\n",
    "X_train, X_test, y_train, y_test = train_test_split(x,y, test_size=0.6, random_state=58)\n",
    "\n",
    "model = GaussianNB()\n",
    "model.fit(X_train, y_train)\n",
    "\n",
    "y_pred = model.predict(X_test)\n",
    "\n",
    "\n",
    "\n",
    "\n",
    "print('accuracy score:', accuracy_score(y_pred, y_test))\n"
   ]
  }
 ],
 "metadata": {
  "kernelspec": {
   "display_name": "Python 3",
   "language": "python",
   "name": "python3"
  },
  "language_info": {
   "codemirror_mode": {
    "name": "ipython",
    "version": 3
   },
   "file_extension": ".py",
   "mimetype": "text/x-python",
   "name": "python",
   "nbconvert_exporter": "python",
   "pygments_lexer": "ipython3",
   "version": "3.10.10"
  },
  "orig_nbformat": 4
 },
 "nbformat": 4,
 "nbformat_minor": 2
}
