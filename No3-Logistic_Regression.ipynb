{
 "cells": [
  {
   "cell_type": "code",
   "execution_count": 9,
   "metadata": {},
   "outputs": [
    {
     "data": {
      "text/plain": [
       "0.9032258064516129"
      ]
     },
     "execution_count": 9,
     "metadata": {},
     "output_type": "execute_result"
    }
   ],
   "source": [
    "from sklearn.model_selection import train_test_split\n",
    "import pandas as pd\n",
    "from sklearn import linear_model\n",
    "from sklearn.preprocessing import StandardScaler\n",
    "\n",
    "\n",
    "df = pd.read_csv('./survey_lung_cancer.csv')\n",
    "df.head()\n",
    "\n",
    "df.columns = [\"Gender\", \"Age\", \"Smoking\", \"Yellow Fingers\", \"Anxiety\", \"Peer Pressure\", \"Chronic Disease\", \"Fatigue\", \"Allergy\", \"Wheezing\", \"Alcohol Consuming\", \"Coughing\", \"Shortness of Breath\", \"Swallowing Difficulty\", \"Chest Pain\", \"Lung Cancer\"]\n",
    "\n",
    "df[\"Lung Cancer\"].replace([\"YES\",\"NO\"], [0,1], inplace=True)\n",
    "df[\"Gender\"].replace([\"M\",\"F\"], [0,1], inplace=True)\n",
    "\n",
    "predictions = [\"Gender\", \"Age\", \"Smoking\", \"Yellow Fingers\", \"Anxiety\", \"Peer Pressure\", \"Chronic Disease\", \"Fatigue\", \"Allergy\", \"Wheezing\", \"Alcohol Consuming\", \"Coughing\", \"Shortness of Breath\", \"Swallowing Difficulty\", \"Chest Pain\"]\n",
    "\n",
    "X = df[predictions]\n",
    "y = df[\"Lung Cancer\"]\n",
    "\n",
    "scaler = StandardScaler()\n",
    "scaler.fit(X)\n",
    "scaled_data = scaler.transform(X)\n",
    "scaled_data = pd.DataFrame(scaled_data, columns= X.columns)\n",
    "scaled_data.head()\n",
    "\n",
    "X_train, X_test, y_train, y_test = train_test_split(scaled_data, y, test_size=0.4, random_state=4)\n",
    "\n",
    "model = linear_model.LogisticRegression()\n",
    "model.fit(X_train,y_train)\n",
    "\n",
    "model.score(X_test,y_test)\n",
    "\n"
   ]
  }
 ],
 "metadata": {
  "kernelspec": {
   "display_name": "Python 3",
   "language": "python",
   "name": "python3"
  },
  "language_info": {
   "codemirror_mode": {
    "name": "ipython",
    "version": 3
   },
   "file_extension": ".py",
   "mimetype": "text/x-python",
   "name": "python",
   "nbconvert_exporter": "python",
   "pygments_lexer": "ipython3",
   "version": "3.10.10"
  },
  "orig_nbformat": 4
 },
 "nbformat": 4,
 "nbformat_minor": 2
}
